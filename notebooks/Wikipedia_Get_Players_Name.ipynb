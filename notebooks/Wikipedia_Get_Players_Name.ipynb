{
  "nbformat": 4,
  "nbformat_minor": 0,
  "metadata": {
    "colab": {
      "name": "Wikipedia - Get Players Name.ipynb",
      "provenance": [],
      "toc_visible": true,
      "collapsed_sections": []
    },
    "kernelspec": {
      "name": "python3",
      "display_name": "Python 3"
    },
    "language_info": {
      "name": "python"
    }
  },
  "cells": [
    {
      "cell_type": "code",
      "execution_count": null,
      "metadata": {
        "id": "H7-oKy9WHcnE"
      },
      "outputs": [],
      "source": [
        "import pandas as pd\n",
        "import numpy as np"
      ]
    },
    {
      "cell_type": "markdown",
      "source": [
        "The main objective of the following routines are get the best players of each NFL season from 2011 to 2021, and make a list with the unique names.\n",
        "\n",
        "In addition, the same procedure is done for the MLB player of the year.\n",
        "\n",
        "These names are used to get the images from my players dataset."
      ],
      "metadata": {
        "id": "ZPA5JA5mIVgk"
      }
    },
    {
      "cell_type": "markdown",
      "source": [
        "## Get NFL Players names"
      ],
      "metadata": {
        "id": "QG0udZmUIDqn"
      }
    },
    {
      "cell_type": "code",
      "source": [
        "years = range(2011,2022)"
      ],
      "metadata": {
        "id": "-w-iFhwYHmOi"
      },
      "execution_count": null,
      "outputs": []
    },
    {
      "cell_type": "code",
      "source": [
        "BEST = []\n",
        "for ano in years:\n",
        "  url = 'https://en.wikipedia.org/wiki/NFL_Top_100_Players_of_' + str(ano)\n",
        "  #print(url)\n",
        "  if(ano>=2018):\n",
        "    df = pd.read_html('https://en.wikipedia.org/wiki/NFL_Top_100_Players_of_' + str(ano))[2]\n",
        "  else:\n",
        "    df = pd.read_html('https://en.wikipedia.org/wiki/NFL_Top_100_Players_of_' + str(ano))[3]\n",
        "  BEST.append(df['Player'])"
      ],
      "metadata": {
        "id": "xTpwmjZ2Hnso"
      },
      "execution_count": null,
      "outputs": []
    },
    {
      "cell_type": "code",
      "source": [
        "N1, N2 = np.shape(BEST)\n",
        "best_list = []"
      ],
      "metadata": {
        "id": "JEfx9Tv7KA3V"
      },
      "execution_count": null,
      "outputs": []
    },
    {
      "cell_type": "code",
      "source": [
        "for i in range(N1):\n",
        "  for j in range(N2):\n",
        "    best_list.append(BEST[i][j])"
      ],
      "metadata": {
        "id": "9CG4LYEzHn2z"
      },
      "execution_count": null,
      "outputs": []
    },
    {
      "cell_type": "code",
      "source": [
        "unique_best = np.unique(best_list)"
      ],
      "metadata": {
        "id": "Jl_v-3HyJykB"
      },
      "execution_count": null,
      "outputs": []
    },
    {
      "cell_type": "markdown",
      "source": [
        "### Create NFL players .csv "
      ],
      "metadata": {
        "id": "U4Vku1ErZS4k"
      }
    },
    {
      "cell_type": "code",
      "source": [
        "import requests"
      ],
      "metadata": {
        "id": "qHDv1VFpaCmE"
      },
      "execution_count": null,
      "outputs": []
    },
    {
      "cell_type": "code",
      "source": [
        "nomes = pd.read_csv('nfl_jogadores_url.csv')"
      ],
      "metadata": {
        "id": "BAjair9WZTRU"
      },
      "execution_count": null,
      "outputs": []
    },
    {
      "cell_type": "code",
      "source": [
        "N = len(nomes)\n",
        "print(N)"
      ],
      "metadata": {
        "colab": {
          "base_uri": "https://localhost:8080/"
        },
        "id": "DHxPUvfsZTUu",
        "outputId": "32507449-9e36-4169-faf4-323a7f9dc54a"
      },
      "execution_count": null,
      "outputs": [
        {
          "output_type": "stream",
          "name": "stdout",
          "text": [
            "245\n"
          ]
        }
      ]
    },
    {
      "cell_type": "code",
      "source": [
        "for i in range(N):\n",
        "  image_url = nomes['URL'][i]\n",
        "  filename = 'player' + str(N) +'.jpg'\n",
        "  img_data = requests.get(image_url).content\n",
        "  with open(filename, 'wb') as handler:\n",
        "    handler.write(img_data)\n"
      ],
      "metadata": {
        "id": "6CcGlYqAZcRr"
      },
      "execution_count": null,
      "outputs": []
    },
    {
      "cell_type": "markdown",
      "source": [
        "## Get MLB players names"
      ],
      "metadata": {
        "id": "ZOiZtki1IGIB"
      }
    },
    {
      "cell_type": "code",
      "source": [
        "import pandas as pd\n",
        "import numpy as np\n",
        "import pickle\n",
        "\n",
        "\n",
        "url = 'https://en.wikipedia.org/wiki/Baseball_America_Major_League_Player_of_the_Year'\n",
        "\n"
      ],
      "metadata": {
        "id": "JfRNfkQNJyqK"
      },
      "execution_count": null,
      "outputs": []
    },
    {
      "cell_type": "code",
      "source": [
        "mlb = pd.read_html(url)[1]   \n"
      ],
      "metadata": {
        "id": "P0NpT1xEJys0"
      },
      "execution_count": null,
      "outputs": []
    },
    {
      "cell_type": "code",
      "source": [
        "jogadores = mlb['Player']"
      ],
      "metadata": {
        "id": "S0FRe16HJyvV"
      },
      "execution_count": null,
      "outputs": []
    },
    {
      "cell_type": "code",
      "source": [
        "mlb_best = np.unique(jogadores)"
      ],
      "metadata": {
        "id": "K_x5y6gYJyx5"
      },
      "execution_count": null,
      "outputs": []
    },
    {
      "cell_type": "code",
      "source": [
        "for player in mlb_best:\n",
        "  print(player)"
      ],
      "metadata": {
        "id": "t1HbAK78Jy0d",
        "colab": {
          "base_uri": "https://localhost:8080/"
        },
        "outputId": "5fac0ee9-e88f-479c-b675-6070cb8a415f"
      },
      "execution_count": null,
      "outputs": [
        {
          "output_type": "stream",
          "name": "stdout",
          "text": [
            "Albert Pujols\n",
            "Alex Rodriguez\n",
            "Alex Rodriguez (2)\n",
            "Alex Rodriguez (3)\n",
            "Barry Bonds\n",
            "Barry Bonds (2)\n",
            "Barry Bonds (3)\n",
            "Bryce Harper\n",
            "CC Sabathia\n",
            "Clayton Kershaw\n",
            "Freddie Freeman\n",
            "Joe Mauer\n",
            "Johan Santana\n",
            "José Altuve\n",
            "Justin Verlander\n",
            "Mark McGwire\n",
            "Matt Kemp\n",
            "Mike Trout\n",
            "Mike Trout (2)\n",
            "Mike Trout (3)\n",
            "Mike Trout (4)\n",
            "Pedro Martinez\n",
            "Roy Halladay\n",
            "Shohei Ohtani\n"
          ]
        }
      ]
    },
    {
      "cell_type": "code",
      "source": [
        "import requests\n",
        "image_url = 'https://images-na.ssl-images-amazon.com/images/I/71CQc1ad8ML.jpg'\n",
        "img_data = requests.get(image_url).content\n",
        "with open('image_name.jpg', 'wb') as handler:\n",
        "    handler.write(img_data)"
      ],
      "metadata": {
        "id": "OAWntb7mD1TE"
      },
      "execution_count": null,
      "outputs": []
    }
  ]
}